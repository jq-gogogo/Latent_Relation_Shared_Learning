{
 "cells": [
  {
   "cell_type": "markdown",
   "metadata": {},
   "source": [
    "\n",
    "# Optimization"
   ]
  },
  {
   "cell_type": "markdown",
   "metadata": {},
   "source": [
    "\n"
   ]
  },
  {
   "cell_type": "code",
   "execution_count": null,
   "metadata": {},
   "outputs": [],
   "source": [
    "\n",
    "import numpy as np\n",
    "from scipy.linalg import solve_sylvester\n",
    "\n",
    "def update_V(Uvc, Xvc, W, Yvc, L, alpha, beta):\n",
    "    \"\"\"Update V using the Sylvester equation.\"\"\"\n",
    "    m = Uvc.shape[0]\n",
    "    A = (1/m) * (2 * np.dot(Uvc.T, Uvc) + 2 * alpha * np.dot(V.T, V))\n",
    "    B = beta * (L + L.T)\n",
    "    C = (1/m) * (np.dot(Uvc.T, Xvc) + 2 * alpha * np.dot(V.T, Yvc))\n",
    "    V = solve_sylvester(A, B, C)\n",
    "    return V\n",
    "\n",
    "def update_W(V, Yvc, gamma, alpha):\n",
    "    \"\"\"Update W.\"\"\"\n",
    "    VVt = np.dot(V, V.T)\n",
    "    W = np.dot(np.dot(Yvc, V.T), np.linalg.inv(VVt + gamma/alpha * np.eye(VVt.shape[0])))\n",
    "    return W\n",
    "\n",
    "def update_Uv(Xvc, V, eta):\n",
    "    \"\"\"Update Uv.\"\"\"\n",
    "    VVt = np.dot(V, V.T)\n",
    "    Uv = np.dot(Xvc, np.dot(V.T, np.linalg.inv(VVt + eta * np.eye(VVt.shape[0]))))\n",
    "    return Uv\n",
    "\n",
    "# Example usage\n",
    "# Define Uvc, Xvc, W, Yvc, L, alpha, beta, gamma, eta\n",
    "# V = update_V(Uvc, Xvc, W, Yvc, L, alpha, beta)\n",
    "# W = update_W(V, Yvc, gamma, alpha)\n",
    "# Uv = update_Uv(Xvc, V, eta)\n"
   ]
  }
 ],
 "metadata": {
  "kernelspec": {
   "display_name": "Python 3",
   "language": "python",
   "name": "python3"
  },
  "language_info": {
   "codemirror_mode": {
    "name": "ipython",
    "version": 3
   },
   "file_extension": ".py",
   "mimetype": "text/x-python",
   "name": "python",
   "nbconvert_exporter": "python",
   "pygments_lexer": "ipython3",
   "version": "3.8.3"
  }
 },
 "nbformat": 4,
 "nbformat_minor": 5
}
