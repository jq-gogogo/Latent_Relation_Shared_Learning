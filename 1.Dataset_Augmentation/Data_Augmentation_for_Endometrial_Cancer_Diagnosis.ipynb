{
 "cells": [
  {
   "cell_type": "markdown",
   "metadata": {},
   "source": [
    "\n",
    "# Data Augmentation for Endometrial Cancer Diagnosis\n",
    "\n",
    "It includes horizontal flipping, vertical flipping, \n",
    "random cropping, contrast adjustment, and noise addition to enhance the diversity of \n",
    "medical image datasets.\n"
   ]
  },
  {
   "cell_type": "code",
   "execution_count": null,
   "metadata": {},
   "outputs": [],
   "source": [
    "\n",
    "import cv2\n",
    "import numpy as np\n",
    "from PIL import Image\n",
    "import random\n",
    "\n",
    "def random_contrast(image, lower=0.5, upper=1.5):\n",
    "    \"\"\" Apply random contrast to an image. \"\"\"\n",
    "    factor = np.random.uniform(lower, upper)\n",
    "    return Image.fromarray(np.clip(np.array(image) * factor, 0, 255).astype(np.uint8))\n",
    "\n",
    "def random_noise(image):\n",
    "    \"\"\" Add random noise to an image. \"\"\"\n",
    "    row, col, ch = image.shape\n",
    "    mean = 0\n",
    "    sigma = 0.1\n",
    "    gauss = np.random.normal(mean, sigma, (row, col, ch))\n",
    "    gauss = gauss.reshape(row, col, ch)\n",
    "    noisy = image + gauss * 255\n",
    "    return np.clip(noisy, 0, 255).astype(np.uint8)\n",
    "\n",
    "def augment_images(image_paths):\n",
    "    \"\"\" Apply augmentation methods to a list of image paths. \"\"\"\n",
    "    augmented_images = []\n",
    "    for path in image_paths:\n",
    "        # Load image\n",
    "        img = cv2.imread(path)\n",
    "        img_pil = Image.fromarray(cv2.cvtColor(img, cv2.COLOR_BGR2RGB))\n",
    "        \n",
    "        # Horizontal and Vertical Flips\n",
    "        h_flip = img_pil.transpose(Image.FLIP_LEFT_RIGHT)\n",
    "        v_flip = img_pil.transpose(Image.FLIP_TOP_BOTTOM)\n",
    "        \n",
    "        # Random Cropping\n",
    "        width, height = img_pil.size\n",
    "        left = random.randint(0, width // 4)\n",
    "        top = random.randint(0, height // 4)\n",
    "        right = random.randint(3 * width // 4, width)\n",
    "        bottom = random.randint(3 * height // 4, height)\n",
    "        crop = img_pil.crop((left, top, right, bottom))\n",
    "        \n",
    "        # Contrast Modification\n",
    "        contrast = random_contrast(img_pil)\n",
    "        \n",
    "        # Random Noise\n",
    "        noise = random_noise(np.array(img_pil))\n",
    "        \n",
    "        # Store augmented images\n",
    "        augmented_images.extend([\n",
    "            np.array(h_flip),\n",
    "            np.array(v_flip),\n",
    "            np.array(crop),\n",
    "            np.array(contrast),\n",
    "            noise\n",
    "        ])\n",
    "        \n",
    "    return augmented_images\n",
    "\n",
    "# Example usage\n",
    "image_paths = ['path_to_image1.jpg', 'path_to_image2.jpg']\n",
    "augmented_images = augment_images(image_paths)\n"
   ]
  }
 ],
 "metadata": {
  "kernelspec": {
   "display_name": "Python 3",
   "language": "python",
   "name": "python3"
  },
  "language_info": {
   "codemirror_mode": {
    "name": "ipython",
    "version": 3
   },
   "file_extension": ".py",
   "mimetype": "text/x-python",
   "name": "python",
   "nbconvert_exporter": "python",
   "pygments_lexer": "ipython3",
   "version": "3.8.3"
  }
 },
 "nbformat": 4,
 "nbformat_minor": 5
}
